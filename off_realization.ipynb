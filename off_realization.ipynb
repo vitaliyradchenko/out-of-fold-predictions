{
 "cells": [
  {
   "cell_type": "markdown",
   "metadata": {},
   "source": [
    "# Out of fold"
   ]
  },
  {
   "cell_type": "code",
   "execution_count": 150,
   "metadata": {
    "collapsed": true
   },
   "outputs": [],
   "source": [
    "from data_utils.load import load_data, beautiful_head\n",
    "from sklearn.preprocessing import LabelEncoder\n",
    "from sklearn.cross_validation import train_test_split"
   ]
  },
  {
   "cell_type": "code",
   "execution_count": 151,
   "metadata": {
    "collapsed": true
   },
   "outputs": [],
   "source": [
    "def reload_data():\n",
    "    train = load_data('data/train2016.csv')\n",
    "    test = load_data('data/test2016.csv')\n",
    "    y_train = train.Party\n",
    "    enc_label = LabelEncoder()\n",
    "    y_train = enc_label.fit_transform(y_train)\n",
    "    train.drop(['Party', 'USER_ID'], axis = 1, inplace = True)\n",
    "    test.drop(['USER_ID'], axis = 1, inplace = True)\n",
    "    \n",
    "    return train, test, y_train\n",
    "def binarycoding(train, test, features='all'):\n",
    "    #import necessary modules\n",
    "    from sklearn.preprocessing import LabelEncoder\n",
    "    import numpy as np\n",
    "    import pandas as pd\n",
    "    \n",
    "    #write only categorical names to variable cat_columns\n",
    "    cat_columns_train = sorted([i for i in train.columns if train[i].dtype == 'O'])\n",
    "    cat_columns_test = sorted([i for i in test.columns if test[i].dtype == 'O'])\n",
    "    \n",
    "    if cat_columns_train != cat_columns_test:\n",
    "        raise ValueError('Train and test sets must have the same columns')\n",
    "    \n",
    "    if features == 'all':\n",
    "        features = cat_columns_train \n",
    "    else:\n",
    "        if type(features) != list:\n",
    "            raise ValueError(str(type(features)) + ' type passed in features. Only list are allowed.')\n",
    "        if len(features) == 0:\n",
    "            raise ValueError('You have chosen not enough features. The minimum number is one.')\n",
    "            \n",
    "        feat_not_in_data = [i for i in features if i not in cat_columns_train]\n",
    "        \n",
    "        if len(feat_not_in_data) > 0:\n",
    "            raise ValueError(','.join(feat_not_in_data) + ' are not in data.')\n",
    "\n",
    "    #save number of new columns\n",
    "    labels = []\n",
    "    l = 0\n",
    "    \n",
    "    #do binary coding\n",
    "    def binary(x):\n",
    "        max_x = len(bin(max(x))[2:])\n",
    "        new_x = [list((max_x - len(bin(i)[2:]))*'0' + str(bin(i))[2:]) for i in x]\n",
    "        return np.array(new_x, dtype = int), max_x\n",
    "    \n",
    "    # encode the first column\n",
    "    enc_label = LabelEncoder()\n",
    "    new_train, l = binary(enc_label.fit_transform(train[features[0]]))\n",
    "    labels.append(l)\n",
    "    new_test,_ = binary(enc_label.transform(test[features[0]]))\n",
    "    \n",
    "    # do the others\n",
    "    for i in features[1:]:\n",
    "        enc_label = LabelEncoder()\n",
    "        col, l = binary(enc_label.fit_transform(train[i]))\n",
    "        new_train = np.column_stack((new_train, col))\n",
    "        labels.append(l)\n",
    "        col, l = binary(enc_label.transform(test[i]))\n",
    "        new_test = np.column_stack((new_test, col))\n",
    "        \n",
    "    # create a list of columns to help create a DF from np array \n",
    "    new_cols = [features[i] + '_' + str(j) for i in range(0,len(features)) for j in range(labels[i]) ]\n",
    "\n",
    "    # create new dataframe\n",
    "    new_train = pd.DataFrame(new_train,columns=new_cols)\n",
    "    new_test = pd.DataFrame(new_test,columns=new_cols)\n",
    "    for i in train.columns:\n",
    "        if i not in features:\n",
    "            new_train[i] = train[i]\n",
    "            new_test[i] = test[i]    \n",
    "    \n",
    "    return new_train, new_test"
   ]
  },
  {
   "cell_type": "code",
   "execution_count": 153,
   "metadata": {
    "collapsed": false
   },
   "outputs": [],
   "source": [
    "train = load_data('data/train2016.csv')\n",
    "test = load_data('data/test2016.csv')\n",
    "target = train.Party\n",
    "enc_label = LabelEncoder()\n",
    "y = enc_label.fit_transform(y_train)\n",
    "train.drop(['Party', 'USER_ID'], axis = 1, inplace = True)\n",
    "test.drop(['USER_ID'], axis = 1, inplace = True)\n",
    "new_train, new_test = binarycoding(train, test)\n",
    "X_train, X_test, y_train, y_test = train_test_split(\n",
    "                                            new_train, y, test_size=0.33, random_state=42, stratify=y)"
   ]
  },
  {
   "cell_type": "markdown",
   "metadata": {},
   "source": [
    "# XGboost and sklearn for OOF"
   ]
  },
  {
   "cell_type": "code",
   "execution_count": 156,
   "metadata": {
    "collapsed": true
   },
   "outputs": [],
   "source": [
    "def oof_xgboost(i, alg, Xtrain, Xtest, Ytrain, mask, test_averaging):\n",
    "        #function for xgboost\n",
    "        import xgboost as xgb\n",
    "        import numpy as np\n",
    "        import pandas as pd\n",
    "        \n",
    "        ansmask = []\n",
    "        ytrain_i = np.zeros((Xtrain.shape[0]))\n",
    "        best_iters = []\n",
    "        Gtest = xgb.DMatrix( Xtest )\n",
    "        if type(Xtrain) == pd.DataFrame:\n",
    "            Xtrain = np.array(Xtrain)\n",
    "        if type(Xtest) == pd.DataFrame:\n",
    "            Xtest = np.array(Xtest)\n",
    "        \n",
    "        for m1, m2 in mask:\n",
    "            \n",
    "            Gtrain1 = xgb.DMatrix( Xtrain[m1], label = Ytrain[m1] )\n",
    "            Gtrain2 = xgb.DMatrix( Xtrain[m2], label = Ytrain[m2] )\n",
    "\n",
    "            evallist = [(Gtrain1,'train1'), (Gtrain2,'train2')]\n",
    "            bst = xgb.train( plst, Gtrain1, num_round, evallist, early_stopping_rounds = 10 )\n",
    "            best_iters += [bst.best_iteration]\n",
    "            ytrain_i[m2] += bst.predict(Gtrain2)\n",
    "            ansmask += [bst.predict(Gtest)]\n",
    "\n",
    "        #Style of test metafeature\n",
    "        if test_averaging :\n",
    "            # Average metafeature using K classifiers for each K-1 group of folds\n",
    "            return ytrain_i, sum(ansmask)/len(mask)\n",
    "        else :\n",
    "            # Train single model to get metafeature\n",
    "            Gtrain = xgb.DMatrix( Xtrain, label = Ytrain )\n",
    "            bst = xgb.train( plst, Gtrain, int(np.mean(best_iters))+10 )\n",
    "            ansmask = bst.predict(Gtest)\n",
    "            return ytrain_i, ansmask"
   ]
  },
  {
   "cell_type": "markdown",
   "metadata": {},
   "source": [
    "# Class for out-of-fold predictions"
   ]
  },
  {
   "cell_type": "code",
   "execution_count": 173,
   "metadata": {
    "collapsed": false
   },
   "outputs": [],
   "source": [
    "class out_of_fold(object):\n",
    "    \n",
    "    def __init__(self, n_folds=5, n_times=3, stratified=True, shuffle=True, random_state=1):\n",
    "        self.n_folds = n_folds\n",
    "        self.stratified = stratified\n",
    "        self.random_state = random_state\n",
    "        self.shuffle = shuffle\n",
    "        self.n_times = n_times\n",
    "                \n",
    "    \n",
    "    def out_of_fold(self, Xtrain, Xtest, Ytrain, algorithm, test_averaging=True):\n",
    "        #basic function for creating metaclassifiers\n",
    "        from sklearn.cross_validation import StratifiedKFold\n",
    "        \n",
    "        if algorithm == 'xgboost':\n",
    "            oof_function = oof_xgboost\n",
    "        else:\n",
    "            print algorithm#oof_function = oof_sklearn\n",
    "\n",
    "        if type(self.n_folds) == int :\n",
    "            masks = [StratifiedKFold(Ytrain, n_folds=self.n_folds, shuffle=True) for i in range(self.n_times)]\n",
    "            def ftemp(i) : return oof_function(i, algorithm, Xtrain, Xtest, Ytrain, masks[i], test_averaging=test_averaging)\n",
    "        else :\n",
    "            def ftemp(i) : return oof_function(i, algorithm, Xtrain, Xtest, Ytrain, self.n_folds, test_averaging=test_averaging)\n",
    "\n",
    "        ans = map(ftemp, range(self.n_times))\n",
    "        return sum([i[0] for i in ans]) / self.n_times, sum([i[1] for i in ans]) / self.n_times\n",
    "    \n",
    "    def transform(self, train, test, target, algorithm):\n",
    "        \n",
    "        return self.out_of_fold(train, test, target, algorithm)"
   ]
  },
  {
   "cell_type": "markdown",
   "metadata": {},
   "source": [
    "## Xgboost parameters"
   ]
  },
  {
   "cell_type": "code",
   "execution_count": 174,
   "metadata": {
    "collapsed": true
   },
   "outputs": [],
   "source": [
    "param = {}\n",
    "param['objective'] = 'binary:logistic'\n",
    "param['max_depth'] = 5\n",
    "param['eta'] = .1\n",
    "param['colsample_bytree'] = .75\n",
    "param['subsample'] = .75\n",
    "param['nthread'] = 2\n",
    "plst = list(param.items()) #+ [('eval_metric', 'merror')]\n",
    "num_round = 1000"
   ]
  },
  {
   "cell_type": "markdown",
   "metadata": {},
   "source": [
    "# Evaluation"
   ]
  },
  {
   "cell_type": "code",
   "execution_count": 175,
   "metadata": {
    "collapsed": false
   },
   "outputs": [],
   "source": [
    "oof = out_of_fold()\n",
    "train_prediction, metafeature = oof.transform(X_train, X_test, y_train, 'xgboost')"
   ]
  },
  {
   "cell_type": "code",
   "execution_count": 179,
   "metadata": {
    "collapsed": false
   },
   "outputs": [
    {
     "data": {
      "text/plain": [
       "0.66660116727419516"
      ]
     },
     "execution_count": 179,
     "metadata": {},
     "output_type": "execute_result"
    }
   ],
   "source": [
    "from sklearn.metrics import roc_auc_score as auc\n",
    "auc(y_train, train_prediction) "
   ]
  },
  {
   "cell_type": "code",
   "execution_count": 180,
   "metadata": {
    "collapsed": false
   },
   "outputs": [],
   "source": [
    "import xgboost as xgb\n",
    "evallist = [(dtrain,'train'), (dtest,'test')]\n",
    "dtrain = xgb.DMatrix( X_train, label = y_train )\n",
    "dtest = xgb.DMatrix( X_test, label = y_test )\n",
    "bst = xgb.train( plst, dtrain, 100,evallist, early_stopping_rounds = 10 )\n",
    "test_pred = bst.predict(dtest)"
   ]
  },
  {
   "cell_type": "code",
   "execution_count": 181,
   "metadata": {
    "collapsed": false
   },
   "outputs": [
    {
     "data": {
      "text/plain": [
       "0.68843697714655105"
      ]
     },
     "execution_count": 181,
     "metadata": {},
     "output_type": "execute_result"
    }
   ],
   "source": [
    "auc(y_test, test_pred)"
   ]
  }
 ],
 "metadata": {
  "kernelspec": {
   "display_name": "Python 2",
   "language": "python",
   "name": "python2"
  },
  "language_info": {
   "codemirror_mode": {
    "name": "ipython",
    "version": 2
   },
   "file_extension": ".py",
   "mimetype": "text/x-python",
   "name": "python",
   "nbconvert_exporter": "python",
   "pygments_lexer": "ipython2",
   "version": "2.7.11"
  }
 },
 "nbformat": 4,
 "nbformat_minor": 0
}
